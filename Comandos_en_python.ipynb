{
  "nbformat": 4,
  "nbformat_minor": 0,
  "metadata": {
    "colab": {
      "provenance": [],
      "authorship_tag": "ABX9TyNo6a6NwOQ9o9h8mvBhGk2o",
      "include_colab_link": true
    },
    "kernelspec": {
      "name": "python3",
      "display_name": "Python 3"
    },
    "language_info": {
      "name": "python"
    }
  },
  "cells": [
    {
      "cell_type": "markdown",
      "metadata": {
        "id": "view-in-github",
        "colab_type": "text"
      },
      "source": [
        "<a href=\"https://colab.research.google.com/github/Aloverastegui/Python/blob/main/Comandos_en_python.ipynb\" target=\"_parent\"><img src=\"https://colab.research.google.com/assets/colab-badge.svg\" alt=\"Open In Colab\"/></a>"
      ]
    },
    {
      "cell_type": "markdown",
      "source": [
        "# **1.2 Introducción a Python**\n",
        "\n",
        "Alumna: Alondra Vianey Verástegui Peña\n",
        "\n",
        "Materia: Protección de datos\n",
        "\n",
        "Carrera: Licenciatura en Ciencia de datos\n",
        "\n",
        "Semestre: 7°\n"
      ],
      "metadata": {
        "id": "4mZNOI-vZd_q"
      }
    },
    {
      "cell_type": "markdown",
      "source": [
        "1. El siguiente código ilustra cómo las variables locales y globales funcionan en Python. Las variables locales son específicas de la función en la que se definen y solo son accesibles dentro de esa función, mientras que las variables globales son accesibles desde cualquier lugar del programa. Además, las variables locales tienen prioridad sobre las globales si tienen el mismo nombre, lo que significa que la variable local oculta la variable global dentro del alcance de la función."
      ],
      "metadata": {
        "id": "KRTfXzt132Op"
      }
    },
    {
      "cell_type": "code",
      "execution_count": 1,
      "metadata": {
        "colab": {
          "base_uri": "https://localhost:8080/"
        },
        "id": "x-mm86sTYpMK",
        "outputId": "8af27402-7bb6-4993-bcff-c1209ccf6bde"
      },
      "outputs": [
        {
          "output_type": "stream",
          "name": "stdout",
          "text": [
            "7\n",
            "5\n"
          ]
        }
      ],
      "source": [
        "# scopes1.py\n",
        "# Local versus Global\n",
        "\n",
        "# Definimos una función llamada local\n",
        "def local():\n",
        "    m = 7\n",
        "    print(m)\n",
        "\n",
        "# Definimos m dentro del alcance global\n",
        "m = 5\n",
        "\n",
        "# Llamamos o ejecutamos la función local\n",
        "local()\n",
        "print(m)"
      ]
    },
    {
      "cell_type": "markdown",
      "source": [
        "Ilustra cómo las variables locales y globales funcionan en Python. Las variables locales son específicas de la función en la que se definen y solo son accesibles dentro de esa función, mientras que las variables globales son accesibles desde cualquier lugar del programa. Además, las variables locales tienen prioridad sobre las globales si tienen el mismo nombre, lo que significa que la variable local oculta la variable global dentro del alcance de la función."
      ],
      "metadata": {
        "id": "7JnikX_i6K24"
      }
    },
    {
      "cell_type": "markdown",
      "source": [
        "2. Este código muestra una diferencia entre las variables locales y globales en Python."
      ],
      "metadata": {
        "id": "4JQvX-t446vq"
      }
    },
    {
      "cell_type": "code",
      "source": [
        "#scopes2.py\n",
        "# Local versus Global\n",
        "\n",
        "# Definimos una función llamada 'local'.\n",
        "def local():\n",
        "    # La variable 'm' no pertenece al ámbito definido por la función 'local'.\n",
        "    # Por lo tanto, Python buscará en el siguiente ámbito más externo.\n",
        "    # La variable 'm' se encuentra finalmente en el ámbito global.\n",
        "    print(m, 'printing from the local scope')\n",
        "\n",
        "# Definimos una variable global 'm' con el valor 5.\n",
        "m = 5\n",
        "\n",
        "# Imprimimos el valor de 'm' desde el ámbito global.\n",
        "print(m, 'printing from the global scope')\n",
        "\n",
        "# Llamamos a la función 'local', que intenta imprimir 'm' desde su ámbito.\n",
        "local()"
      ],
      "metadata": {
        "colab": {
          "base_uri": "https://localhost:8080/"
        },
        "id": "ZmsvNSvObuns",
        "outputId": "49617085-ea3f-4dff-8e79-596ddfcd51af"
      },
      "execution_count": 46,
      "outputs": [
        {
          "output_type": "stream",
          "name": "stdout",
          "text": [
            "5 printing from the global scope\n",
            "5 printing from the local scope\n"
          ]
        }
      ]
    },
    {
      "cell_type": "markdown",
      "source": [
        " • Se define una función llamada local, pero dentro de esta función, se intenta imprimir la variable m que no está definida dentro de la función. Cuando Python busca la variable m, no la encuentra en el ámbito local de la función, por lo que busca en el ámbito global.\n",
        "\n",
        " • Antes de llamar a la función local, se define una variable global m con el valor 5, y se imprime su valor desde el ámbito global. Esto imprimirá “5 printing from the global scope”.\n",
        "\n",
        " • Luego, se llama a la función local, que intenta imprimir m desde su ámbito local, pero dado que no está definido localmente, Python encuentra la variable m en el ámbito global y la imprime."
      ],
      "metadata": {
        "id": "M7Ma9oUo6eQi"
      }
    },
    {
      "cell_type": "markdown",
      "source": [
        "3. Este código ilustra cómo funcionan los ámbitos (scopes) en Python, especialmente en el contexto de funciones anidadas (nested functions)."
      ],
      "metadata": {
        "id": "jU6BluJ36uM7"
      }
    },
    {
      "cell_type": "code",
      "source": [
        "# scopes3.py\n",
        "\n",
        "# Definimos una función llamada \"enclosing_func\" (función envolvente).\n",
        "def enclosing_func():\n",
        "    m = 13  # Variable \"m\" en el ámbito de \"enclosing_func\".\n",
        "\n",
        "    # Definimos una función anidada llamada \"local\" (función local).\n",
        "    def local():\n",
        "        # La variable \"m\" no pertenece al ámbito definido por la función local,\n",
        "        # por lo que Python seguirá buscando en el siguiente ámbito envolvente.\n",
        "        # En este caso, \"m\" se encuentra en el ámbito envolvente de enclosing_func.\n",
        "        print(m, 'imprimiendo desde el ámbito local')\n",
        "\n",
        "    # Llamamos a la función \"local\".\n",
        "    local()\n",
        "\n",
        "    m = 5  # Cambiamos el valor de la variable \"m\" en el ámbito global.\n",
        "    print(m, 'imprimiendo desde el ámbito global')\n",
        "\n",
        "# Llamamos a la función \"enclosing_func\".\n",
        "enclosing_func()"
      ],
      "metadata": {
        "colab": {
          "base_uri": "https://localhost:8080/"
        },
        "id": "9f2WYZ8Bhy2j",
        "outputId": "4bb6c3f3-1a6a-4489-f545-7291f81a5371"
      },
      "execution_count": 13,
      "outputs": [
        {
          "output_type": "stream",
          "name": "stdout",
          "text": [
            "13 imprimiendo desde el ámbito local\n",
            "5 imprimiendo desde el ámbito global\n"
          ]
        }
      ]
    },
    {
      "cell_type": "markdown",
      "source": [
        "Este código demuestra cómo las variables en Python se buscan en ámbitos anidados, comenzando desde el ámbito más interno y avanzando hacia los ámbitos más externos hasta encontrar una coincidencia. También muestra cómo los cambios en el valor de una variable en un ámbito pueden afectar a la misma variable en ámbitos superiores, como el ámbito global."
      ],
      "metadata": {
        "id": "sIAUAzpL7f12"
      }
    },
    {
      "cell_type": "markdown",
      "source": [
        "4. Este código define una clase llamada “Bike” que representa bicicletas. Luego crea dos instancias de esta clase, una bicicleta roja y una bicicleta azul, y muestra información sobre ellas, incluido el color y el material del marco. Además, demuestra cómo se puede llamar al método “brake” para frenar una bicicleta específica."
      ],
      "metadata": {
        "id": "ZKeFmM4J7i5i"
      }
    },
    {
      "cell_type": "code",
      "source": [
        "# bike.py\n",
        "\n",
        "# Definimos la clase Bike (Clase Bicicleta):\n",
        "class Bike:\n",
        "    # Constructor de la clase Bike, que recibe color y material del marco como parámetros.\n",
        "    def __init__(self, colour, frame_material):\n",
        "        self.colour = colour  # Establece el atributo 'colour' con el color proporcionado.\n",
        "        self.frame_material = frame_material  # Establece el atributo 'frame_material' con el material del marco proporcionado.\n",
        "\n",
        "    # Método 'brake' (frenar) de la clase Bike.\n",
        "    def brake(self):\n",
        "        print(\"¡Frenando!\")  # Imprime \"¡Frenando!\" cuando se llama a este método.\n",
        "\n",
        "# Creamos un par de instancias de la clase Bike.\n",
        "red_bike = Bike('Roja', 'Fibra de carbono')\n",
        "blue_bike = Bike('Azul', 'Acero')\n",
        "\n",
        "# Inspeccionamos los objetos que tenemos, que son instancias de la clase Bike.\n",
        "print(red_bike.colour)          # Imprime: Roja\n",
        "print(red_bike.frame_material)  # Imprime: Fibra de carbono\n",
        "print(blue_bike.colour)         # Imprime: Azul\n",
        "print(blue_bike.frame_material) # Imprime: Acero\n",
        "\n",
        "# ¡Frenemos!\n",
        "red_bike.brake()  # Llama al método 'brake' en la instancia red_bike e imprime: ¡Frenando!"
      ],
      "metadata": {
        "colab": {
          "base_uri": "https://localhost:8080/"
        },
        "id": "R60PHomjbuhF",
        "outputId": "ba419458-be14-4efa-fbc5-bdcf5a1bd713"
      },
      "execution_count": 3,
      "outputs": [
        {
          "output_type": "stream",
          "name": "stdout",
          "text": [
            "Roja\n",
            "Fibra de carbono\n",
            "Azul\n",
            "Acero\n",
            "¡Frenando!\n"
          ]
        }
      ]
    },
    {
      "cell_type": "markdown",
      "source": [
        "5. Este código demuestra las operaciones aritméticas básicas que se pueden realizar en Python, incluyendo suma, resta, multiplicación, división, división entera, módulo y potenciación. Cada operación se lleva a cabo con las variables a y b, y se muestra el resultado correspondiente. Estas operaciones son fundamentales en matemáticas y son ampliamente utilizadas en programación para realizar cálculos y procesamientos numéricos."
      ],
      "metadata": {
        "id": "W7PsZC1g7-jx"
      }
    },
    {
      "cell_type": "code",
      "source": [
        "# Definimos dos variables, 'a' y 'b'\n",
        "a = 14\n",
        "b = 3\n",
        "\n",
        "# Realizamos una operación de suma entre 'a' y 'b'\n",
        "a + b\n",
        "# Realizamos una operación de resta entre 'a' y 'b'\n",
        "a - b\n",
        "# Realizamos una operación de multiplicación entre 'a' y 'b'\n",
        "a * b\n",
        "# Realizamos una operación de división verdadera (con decimales) entre 'a' y 'b'\n",
        "a / b\n",
        "# Realizamos una operación de división entera entre 'a' y 'b'\n",
        "a // b\n",
        "# Realizamos una operación de módulo (residuo de la división) entre 'a' y 'b'\n",
        "a % b\n",
        "# Realizamos una operación de potenciación entre 'a' y 'b'\n",
        "a ** b  # operación de potenciación"
      ],
      "metadata": {
        "colab": {
          "base_uri": "https://localhost:8080/"
        },
        "id": "nGo88G6TmHTf",
        "outputId": "7827140b-bddb-41a0-ff7c-807a6ada9d3a"
      },
      "execution_count": 27,
      "outputs": [
        {
          "output_type": "execute_result",
          "data": {
            "text/plain": [
              "2744"
            ]
          },
          "metadata": {},
          "execution_count": 27
        }
      ]
    },
    {
      "cell_type": "markdown",
      "source": [
        "6. En las siguientes operaciones demuestran cómo funcionan la división verdadera y la división entera en Python, y cómo se manejan los números negativos en estas operaciones."
      ],
      "metadata": {
        "id": "mM8kzlA883Qa"
      }
    },
    {
      "cell_type": "code",
      "source": [
        "# Realizamos una operación de división verdadera (con decimales)\n",
        "7 / 4\n",
        "# Realizamos una operación de división entera entre 7 y 4\n",
        "7 // 4\n",
        "# Realizamos una operación de división verdadera (con decimales)\n",
        "-7 / 4\n",
        "# Realizamos una operación de división entera entre -7 y 4\n",
        "-7 // 4  # división entera de números negativos"
      ],
      "metadata": {
        "colab": {
          "base_uri": "https://localhost:8080/"
        },
        "id": "wqUPruXlmHa5",
        "outputId": "582d3744-d9f4-4ab9-a4c1-77e49d83d1cc"
      },
      "execution_count": 29,
      "outputs": [
        {
          "output_type": "execute_result",
          "data": {
            "text/plain": [
              "-2"
            ]
          },
          "metadata": {},
          "execution_count": 29
        }
      ]
    },
    {
      "cell_type": "markdown",
      "source": [
        "7. En este código se realizan cálculos matemáticos y se explica el resultado."
      ],
      "metadata": {
        "id": "c342pe3Z89o-"
      }
    },
    {
      "cell_type": "code",
      "source": [
        "# Calcula 10 elevado a la tercera potencia utilizando la función pow().\n",
        "# El resultado es 1000.0 y se almacena como un número en punto flotante.\n",
        "pow(10, 3)\n",
        "1000.0 # El resultado es un flotante (float).\n",
        "\n",
        "# Aquí, 10  3 parece un error de sintaxis, debería ser 10 ** 3.\n",
        "# Pero si interpretamos esto como una simple expresión matemática,\n",
        "# sería equivalente a 10 multiplicado por 3, que es 30.\n",
        "10*3\n",
        "1000 # El resultado (30) es un número entero (int), aunque esto parece incorrecto.\n",
        "\n",
        "# Calcula 10 elevado a la potencia -3 utilizando la función pow().\n",
        "# El resultado es 0.001 y se almacena como un número en punto flotante.\n",
        "pow(10, -3)\n",
        "0.001 # El resultado es un flotante (float).\n",
        "\n",
        "# Similar al segundo caso, 10  -3 parece un error de sintaxis,\n",
        "# debería ser 10 ** -3.\n",
        "# Pero si interpretamos esto como una expresión matemática,\n",
        "# sería equivalente a 10 dividido por -3, que es -3.333...,\n",
        "# pero parece incorrecto ya que el resultado debe ser positivo.\n",
        "10  -3\n",
        "0.001 # El resultado (-3.333...) parece incorrecto como un flotante (float)."
      ],
      "metadata": {
        "colab": {
          "base_uri": "https://localhost:8080/"
        },
        "id": "pMQa1DcXmHdm",
        "outputId": "2689aad6-42d8-4c4c-bf18-55251579e3f6"
      },
      "execution_count": 2,
      "outputs": [
        {
          "output_type": "execute_result",
          "data": {
            "text/plain": [
              "0.001"
            ]
          },
          "metadata": {},
          "execution_count": 2
        }
      ]
    },
    {
      "cell_type": "markdown",
      "source": [
        "• La función pow(10, 3) calcula 10 elevado a la tercera potencia, lo que resulta en 1000.0 como un número de punto flotante (float).\n",
        " • La expresión 10*3 realiza una multiplicación simple y devuelve 30 como un número entero (int).\n",
        "\n",
        " • La función pow(10, -3) calcula 10 elevado a la potencia -3, resultando en 0.001 como un número de punto flotante (float).\n",
        "\n",
        " • La expresión 10 - 3 realiza una resta simple, pero puede ser un error de sintaxis. El resultado es 0.001, pero parece incorrecto ya que se esperaría un resultado positivo. Esto podría haber sido un error en la entrada de datos."
      ],
      "metadata": {
        "id": "NxQhAhHX9Zoi"
      }
    },
    {
      "cell_type": "markdown",
      "source": [
        "8."
      ],
      "metadata": {
        "id": "NvIHObsP9gmg"
      }
    },
    {
      "cell_type": "code",
      "source": [
        "# Definimos una lista 'a' con valores [1, 3, 5, 7].\n",
        "a = [1, 3, 5, 7]\n",
        "\n",
        "# Usamos la función 'min' para encontrar el valor mínimo en la lista 'a', que es 1.\n",
        "min(a)  # valor mínimo en la lista\n",
        "\n",
        "# Usamos la función 'max' para encontrar el valor máximo en la lista 'a', que es 7.\n",
        "max(a)  # valor máximo en la lista\n",
        "\n",
        "# Usamos la función 'sum' para calcular la suma de todos los valores en la lista 'a', que es 16.\n",
        "sum(a)  # suma de todos los valores en la lista\n",
        "\n",
        "# Importamos la función 'prod' desde el módulo 'math'.\n",
        "from math import prod\n",
        "\n",
        "# Usamos la función 'prod' para calcular el producto de todos los valores en la lista 'a', que es 105.\n",
        "prod(a)  # producto de todos los valores en la lista\n",
        "\n",
        "# Usamos la función 'len' para obtener la cantidad de elementos en la lista 'a', que es 4.\n",
        "len(a)  # número de elementos en la lista\n",
        "\n",
        "# Definimos una lista 'b' con valores [6, 7, 8].\n",
        "b = [6, 7, 8]\n",
        "# Usamos el operador '+' para concatenar las listas 'a' y 'b', creando una nueva lista que contiene todos los elementos de ambas listas.\n",
        "a + b  # '+' con listas significa concatenación\n",
        "[1, 3, 5, 7, 6, 7, 8]\n",
        "# Usamos el operador '*' para duplicar los elementos de la lista 'a', creando una nueva lista repetida dos veces.\n",
        "a * 2  # '*' tiene un significado especial en listas\n",
        "[1, 3, 5, 7, 1, 3, 5, 7]\n",
        "# Importamos la función 'itemgetter' desde el módulo 'operator'.\n",
        "from operator import itemgetter\n",
        "\n",
        "# Definimos una lista 'a' que contiene tuplas.\n",
        "a = [(5, 3), (1, 3), (1, 2), (2, -1), (4, 9)]\n",
        "\n",
        "# Usamos la función 'sorted' para ordenar la lista 'a' de forma predeterminada (orden lexicográfico).\n",
        "# Esto resulta en una lista ordenada en función del primer elemento de cada tupla.\n",
        "sorted(a)\n",
        "# El resultado es [(1, 2), (1, 3), (2, -1), (4, 9), (5, 3)]\n",
        "\n",
        "# Usamos la función 'sorted' nuevamente, pero esta vez especificamos 'key=itemgetter(0)' como argumento.\n",
        "# Esto significa que estamos ordenando la lista 'a' en función del primer elemento de cada tupla.\n",
        "sorted(a, key=itemgetter(0))\n",
        "# El resultado es [(1, 3), (1, 2), (2, -1), (4, 9), (5, 3)]\n",
        "# Usamos la función 'sorted' para ordenar la lista 'a' utilizando 'key=itemgetter(0, 1)' como argumento.\n",
        "# Esto significa que estamos ordenando la lista 'a' primero en función del primer elemento de cada tupla y, en caso de empate, en función del segundo elemento.\n",
        "sorted(a, key=itemgetter(0, 1))\n",
        "# El resultado es [(1, 2), (1, 3), (2, -1), (4, 9), (5, 3)]\n",
        "\n",
        "# Usamos la función 'sorted' para ordenar la lista 'a' utilizando 'key=itemgetter(1)' como argumento.\n",
        "# Esto significa que estamos ordenando la lista 'a' en función del segundo elemento de cada tupla.\n",
        "sorted(a, key=itemgetter(1))\n",
        "# El resultado es [(2, -1), (1, 2), (5, 3), (1, 3), (4, 9)]\n",
        "\n",
        "# Usamos la función 'sorted' para ordenar la lista 'a' utilizando 'key=itemgetter(1)' y 'reverse=True' como argumentos.\n",
        "# Esto significa que estamos ordenando la lista 'a' en función del segundo elemento de cada tupla en orden descendente.\n",
        "sorted(a, key=itemgetter(1), reverse=True)\n",
        "# El resultado es [(4, 9), (5, 3), (1, 3), (1, 2), (2, -1)]"
      ],
      "metadata": {
        "colab": {
          "base_uri": "https://localhost:8080/"
        },
        "id": "HAcOLkSQmHh5",
        "outputId": "546a5bf1-7580-4b0e-cbf0-726c0845a507"
      },
      "execution_count": 16,
      "outputs": [
        {
          "output_type": "execute_result",
          "data": {
            "text/plain": [
              "[(4, 9), (5, 3), (1, 3), (1, 2), (2, -1)]"
            ]
          },
          "metadata": {},
          "execution_count": 16
        }
      ]
    },
    {
      "cell_type": "markdown",
      "source": [
        "**1.3 Importación de datos en Python**"
      ],
      "metadata": {
        "id": "jTXlSiuvsRjM"
      }
    },
    {
      "cell_type": "code",
      "source": [
        "# json_examples/json_basic.py\n",
        "import json\n",
        "info = {\n",
        "'full_name': 'Sherlock Holmes',\n",
        "'address': {\n",
        "'street': '221B Baker St',\n",
        "'zip': 'NW1 6XE',\n",
        "'city': 'London',\n",
        "'country': 'UK',\n",
        "}\n",
        "}\n",
        "print(json.dumps(info, indent=2, sort_keys=True))"
      ],
      "metadata": {
        "colab": {
          "base_uri": "https://localhost:8080/"
        },
        "id": "Th7E2Q4hn5ys",
        "outputId": "f3e0ee0c-555f-4958-d6f0-af527836cb43"
      },
      "execution_count": 18,
      "outputs": [
        {
          "output_type": "stream",
          "name": "stdout",
          "text": [
            "{\n",
            "  \"address\": {\n",
            "    \"city\": \"London\",\n",
            "    \"country\": \"UK\",\n",
            "    \"street\": \"221B Baker St\",\n",
            "    \"zip\": \"NW1 6XE\"\n",
            "  },\n",
            "  \"full_name\": \"Sherlock Holmes\"\n",
            "}\n"
          ]
        }
      ]
    },
    {
      "cell_type": "code",
      "source": [
        "# Importamos la biblioteca 'json' que nos permite trabajar con datos en formato JSON.\n",
        "import json\n",
        "\n",
        "# Creamos un diccionario 'info' que contiene información de un personaje ficticio, Sherlock Holmes,\n",
        "# incluyendo su nombre completo y su dirección, que a su vez es otro diccionario con detalles adicionales.\n",
        "info = {\n",
        "    'full_name': 'Sherlock Holmes',\n",
        "    'address': {\n",
        "        'street': '221B Baker St',\n",
        "        'zip': 'NW1 6XE',\n",
        "        'city': 'London',\n",
        "        'country': 'UK',\n",
        "    }\n",
        "}\n",
        "\n",
        "# Utilizamos 'json.dumps()' para convertir el diccionario 'info' en una cadena de formato JSON.\n",
        "# - 'indent=2' hace que la salida JSON tenga una sangría de 2 espacios para que sea más legible.\n",
        "# - 'sort_keys=True' ordena las claves del diccionario JSON alfabéticamente en la salida.\n",
        "print(json.dumps(info, indent=2, sort_keys=True))"
      ],
      "metadata": {
        "colab": {
          "base_uri": "https://localhost:8080/"
        },
        "id": "yZwUpifbqEGW",
        "outputId": "4c2bff59-f1e9-4d3f-99ec-4a98985cbe2b"
      },
      "execution_count": 22,
      "outputs": [
        {
          "output_type": "stream",
          "name": "stdout",
          "text": [
            "{\n",
            "  \"address\": {\n",
            "    \"city\": \"London\",\n",
            "    \"country\": \"UK\",\n",
            "    \"street\": \"221B Baker St\",\n",
            "    \"zip\": \"NW1 6XE\"\n",
            "  },\n",
            "  \"full_name\": \"Sherlock Holmes\"\n",
            "}\n"
          ]
        }
      ]
    },
    {
      "cell_type": "code",
      "source": [
        "# Importamos la biblioteca 'json' para trabajar con datos en formato JSON.\n",
        "import json\n",
        "\n",
        "# Definimos una clase personalizada 'ComplexEncoder' que hereda de 'json.JSONEncoder'.\n",
        "class ComplexEncoder(json.JSONEncoder):\n",
        "    def default(self, obj):\n",
        "        # Este método se llama cuando se encuentra un objeto no serializable.\n",
        "        print(f\"ComplexEncoder.default: {obj=}\")\n",
        "        if isinstance(obj, complex):\n",
        "            # Si el objeto es de tipo 'complex', lo serializamos en un formato personalizado.\n",
        "            return {\n",
        "                '_meta': '_complex',\n",
        "                'num': [obj.real, obj.imag],\n",
        "            }\n",
        "        # En caso contrario, llamamos al método 'default' de la clase base para manejar la serialización predeterminada.\n",
        "        return super().default(obj)\n",
        "\n",
        "# Creamos un diccionario 'data' que contiene diferentes tipos de datos, incluyendo un número complejo.\n",
        "data = {\n",
        "    'an_int': 42,\n",
        "    'a_float': 3.14159265,\n",
        "    'a_complex': 3 + 4j,\n",
        "}\n",
        "\n",
        "# Convertimos el diccionario 'data' en una cadena JSON utilizando nuestra clase personalizada 'ComplexEncoder'.\n",
        "json_data = json.dumps(data, cls=ComplexEncoder)\n",
        "print(json_data)\n",
        "\n",
        "# Definimos una función 'object_hook' que se utilizará para la deserialización personalizada.\n",
        "def object_hook(obj):\n",
        "    print(f\"object_hook: {obj=}\")\n",
        "    try:\n",
        "        if obj['_meta'] == '_complex':\n",
        "            # Si encontramos un objeto con '_meta' igual a '_complex', lo deserializamos en un número complejo.\n",
        "            return complex(*obj['num'])\n",
        "    except KeyError:\n",
        "        pass\n",
        "    # En caso contrario, devolvemos el objeto sin cambios.\n",
        "    return obj\n",
        "\n",
        "# Realizamos la deserialización de la cadena JSON 'json_data' utilizando la función 'object_hook'.\n",
        "data_out = json.loads(json_data, object_hook=object_hook)\n",
        "print(data_out)"
      ],
      "metadata": {
        "colab": {
          "base_uri": "https://localhost:8080/"
        },
        "id": "NwpVK9TRrD_X",
        "outputId": "14f5572c-5ad5-44be-b706-6e708fe0d75b"
      },
      "execution_count": 23,
      "outputs": [
        {
          "output_type": "stream",
          "name": "stdout",
          "text": [
            "ComplexEncoder.default: obj=(3+4j)\n",
            "{\"an_int\": 42, \"a_float\": 3.14159265, \"a_complex\": {\"_meta\": \"_complex\", \"num\": [3.0, 4.0]}}\n",
            "object_hook: obj={'_meta': '_complex', 'num': [3.0, 4.0]}\n",
            "object_hook: obj={'an_int': 42, 'a_float': 3.14159265, 'a_complex': (3+4j)}\n",
            "{'an_int': 42, 'a_float': 3.14159265, 'a_complex': (3+4j)}\n"
          ]
        }
      ]
    },
    {
      "cell_type": "code",
      "source": [
        "# Importamos la biblioteca 'json' para trabajar con datos en formato JSON y 'datetime' para trabajar con fechas y horas.\n",
        "import json\n",
        "from datetime import datetime, timedelta, timezone\n",
        "\n",
        "# Obtenemos la fecha y hora actual sin zona horaria.\n",
        "now = datetime.now()\n",
        "\n",
        "# Creamos un objeto de fecha y hora con zona horaria de UTC+1 (una hora adelante de UTC).\n",
        "now_tz = datetime.now(tz=timezone(timedelta(hours=1)))\n",
        "\n",
        "# Definimos una clase personalizada 'DatetimeEncoder' que hereda de 'json.JSONEncoder'.\n",
        "class DatetimeEncoder(json.JSONEncoder):\n",
        "    def default(self, obj):\n",
        "        if isinstance(obj, datetime):\n",
        "            try:\n",
        "                # Intentamos obtener el desplazamiento UTC en segundos, si no está disponible, lo establecemos en None.\n",
        "                off = obj.utcoffset().seconds\n",
        "            except AttributeError:\n",
        "                off = None\n",
        "            # Serializamos objetos de tipo 'datetime' en un formato personalizado.\n",
        "            return {\n",
        "                '_meta': '_datetime',\n",
        "                'data': obj.timetuple()[:6] + (obj.microsecond, ),\n",
        "                'utcoffset': off,\n",
        "            }\n",
        "        return super().default(obj)\n",
        "\n",
        "# Creamos un diccionario 'data' que contiene diferentes tipos de datos, incluyendo objetos 'datetime'.\n",
        "data = {\n",
        "    'an_int': 42,\n",
        "    'a_float': 3.14159265,\n",
        "    'a_datetime': now,\n",
        "    'a_datetime_tz': now_tz,\n",
        "}\n",
        "\n",
        "# Convertimos el diccionario 'data' en una cadena JSON utilizando nuestra clase personalizada 'DatetimeEncoder'.\n",
        "json_data = json.dumps(data, cls=DatetimeEncoder)\n",
        "print(json_data)"
      ],
      "metadata": {
        "colab": {
          "base_uri": "https://localhost:8080/"
        },
        "id": "F1VgEGTKrELM",
        "outputId": "ec6275e3-cc01-4448-b7e4-8b81eefdd612"
      },
      "execution_count": 24,
      "outputs": [
        {
          "output_type": "stream",
          "name": "stdout",
          "text": [
            "{\"an_int\": 42, \"a_float\": 3.14159265, \"a_datetime\": {\"_meta\": \"_datetime\", \"data\": [2023, 9, 18, 5, 8, 9, 480289], \"utcoffset\": null}, \"a_datetime_tz\": {\"_meta\": \"_datetime\", \"data\": [2023, 9, 18, 6, 8, 9, 480393], \"utcoffset\": 3600}}\n"
          ]
        }
      ]
    },
    {
      "cell_type": "code",
      "source": [
        "# Importamos el módulo 'io' que nos proporciona herramientas para trabajar con entrada/salida.\n",
        "\n",
        "import io\n",
        "\n",
        "# Creamos un objeto 'stream' de tipo 'io.StringIO'. Esto permite tratarlo como un archivo en memoria que almacena texto.\n",
        "\n",
        "with io.StringIO() as stream:\n",
        "    # Escribimos una línea de texto en el 'stream'.\n",
        "    stream.write('Learning Python Programming.\\n')\n",
        "\n",
        "    # Usamos 'print' para escribir otra línea de texto en el 'stream'. El argumento 'file' especifica el destino, que es el 'stream'.\n",
        "    print('Become a Python ninja!', file=stream)\n",
        "\n",
        "    # Obtenemos el contenido completo del 'stream' utilizando 'getvalue()' y lo almacenamos en la variable 'contents'.\n",
        "    contents = stream.getvalue()\n",
        "\n",
        "    # Imprimimos el contenido que hemos almacenado en 'contents'.\n",
        "    print(contents)"
      ],
      "metadata": {
        "colab": {
          "base_uri": "https://localhost:8080/"
        },
        "id": "ERHz_i-FtahO",
        "outputId": "b12283a8-0df1-4944-c6d1-c698cd6c5156"
      },
      "execution_count": 33,
      "outputs": [
        {
          "output_type": "stream",
          "name": "stdout",
          "text": [
            "Learning Python Programming.\n",
            "Become a Python ninja!\n",
            "\n"
          ]
        }
      ]
    },
    {
      "cell_type": "code",
      "source": [
        "# Importamos la biblioteca 'requests', que nos permite realizar solicitudes HTTP.\n",
        "import requests\n",
        "\n",
        "# Definimos un diccionario 'urls' que contiene varios títulos y las URL correspondientes.\n",
        "urls = {\n",
        "    \"get\": \"https://httpbin.org/get?t=learn+python+programming\",\n",
        "    \"headers\": \"https://httpbin.org/headers\",\n",
        "    \"ip\": \"https://httpbin.org/ip\",\n",
        "    \"user-agent\": \"https://httpbin.org/user-agent\",\n",
        "    \"UUID\": \"https://httpbin.org/uuid\",\n",
        "    \"JSON\": \"https://httpbin.org/json\",\n",
        "}\n",
        "\n",
        "# Definimos una función 'get_content' que toma un título y una URL como argumentos.\n",
        "def get_content(title, url):\n",
        "    # Realizamos una solicitud GET a la URL proporcionada.\n",
        "    resp = requests.get(url)\n",
        "\n",
        "    # Imprimimos el título y la respuesta JSON obtenida de la solicitud.\n",
        "    print(f\"Response for {title}\")\n",
        "    print(resp.json())\n",
        "\n",
        "# Iteramos a través de las URL en el diccionario 'urls' y llamamos a la función 'get_content' para cada una.\n",
        "for title, url in urls.items():\n",
        "    get_content(title, url)\n",
        "\n",
        "# Imprimimos una línea de separación para distinguir entre las respuestas de diferentes solicitudes.\n",
        "print(\"-\" * 40)"
      ],
      "metadata": {
        "colab": {
          "base_uri": "https://localhost:8080/"
        },
        "id": "VbFPo6O_tlwf",
        "outputId": "9f222f89-8309-4ade-a8b3-7fac5ac5fb9a"
      },
      "execution_count": 35,
      "outputs": [
        {
          "output_type": "stream",
          "name": "stdout",
          "text": [
            "Response for get\n",
            "{'args': {'t': 'learn python programming'}, 'headers': {'Accept': '*/*', 'Accept-Encoding': 'gzip, deflate', 'Host': 'httpbin.org', 'User-Agent': 'python-requests/2.31.0', 'X-Amzn-Trace-Id': 'Root=1-6507dd0a-24e13ddb5e1d8b3e64a68a40'}, 'origin': '34.81.213.108', 'url': 'https://httpbin.org/get?t=learn+python+programming'}\n",
            "Response for headers\n",
            "{'headers': {'Accept': '*/*', 'Accept-Encoding': 'gzip, deflate', 'Host': 'httpbin.org', 'User-Agent': 'python-requests/2.31.0', 'X-Amzn-Trace-Id': 'Root=1-6507dd0b-4a4eb0e4210a21ad6950e8d9'}}\n",
            "Response for ip\n",
            "{'origin': '34.81.213.108'}\n",
            "Response for user-agent\n",
            "{'user-agent': 'python-requests/2.31.0'}\n",
            "Response for UUID\n",
            "{'uuid': '127ab192-042f-410b-8098-9bd034ba3c66'}\n",
            "Response for JSON\n",
            "{'slideshow': {'author': 'Yours Truly', 'date': 'date of publication', 'slides': [{'title': 'Wake up to WonderWidgets!', 'type': 'all'}, {'items': ['Why <em>WonderWidgets</em> are great', 'Who <em>buys</em> WonderWidgets'], 'title': 'Overview', 'type': 'all'}], 'title': 'Sample Slide Show'}}\n",
            "----------------------------------------\n"
          ]
        }
      ]
    },
    {
      "cell_type": "code",
      "source": [
        "# Importamos la biblioteca 'requests', que nos permite realizar solicitudes HTTP.\n",
        "import requests\n",
        "\n",
        "# Definimos la URL a la que vamos a realizar la solicitud POST.\n",
        "url = 'https://httpbin.org/post'\n",
        "\n",
        "# Creamos un diccionario 'data' con datos que deseamos enviar en la solicitud POST.\n",
        "data = dict(title='Learn Python Programming')\n",
        "\n",
        "# Realizamos una solicitud POST a la URL proporcionada, enviando los datos contenidos en el diccionario 'data'.\n",
        "resp = requests.post(url, data=data)\n",
        "\n",
        "# Imprimimos un encabezado para indicar que estamos mostrando la respuesta de la solicitud POST.\n",
        "print('Response for POST')\n",
        "\n",
        "# Imprimimos la respuesta JSON obtenida de la solicitud.\n",
        "print(resp.json())"
      ],
      "metadata": {
        "colab": {
          "base_uri": "https://localhost:8080/"
        },
        "id": "Zo1iSAkeugLX",
        "outputId": "03ba7c5a-36fd-45d7-84e8-5eca6ec2f57b"
      },
      "execution_count": 37,
      "outputs": [
        {
          "output_type": "stream",
          "name": "stdout",
          "text": [
            "Response for POST\n",
            "{'args': {}, 'data': '', 'files': {}, 'form': {'title': 'Learn Python Programming'}, 'headers': {'Accept': '*/*', 'Accept-Encoding': 'gzip, deflate', 'Content-Length': '30', 'Content-Type': 'application/x-www-form-urlencoded', 'Host': 'httpbin.org', 'User-Agent': 'python-requests/2.31.0', 'X-Amzn-Trace-Id': 'Root=1-6507ddaf-752ff4660ecd00bf3e5c8008'}, 'json': None, 'origin': '34.81.213.108', 'url': 'https://httpbin.org/post'}\n"
          ]
        }
      ]
    },
    {
      "cell_type": "code",
      "source": [
        "# persistence/pickler.py\n",
        "# Importamos el módulo 'pickle' para serializar datos en Python.\n",
        "import pickle\n",
        "\n",
        "# Importamos la decoración 'dataclass' del módulo 'dataclasses'.\n",
        "from dataclasses import dataclass\n",
        "\n",
        "# Definimos una clase 'Person' como un objeto de datos.\n",
        "@dataclass\n",
        "class Person:\n",
        "    first_name: str\n",
        "    last_name: str\n",
        "    id: int\n",
        "\n",
        "    # Agregamos un método 'greet' para imprimir un saludo.\n",
        "    def greet(self):\n",
        "        print(f'Hi, I am {self.first_name} {self.last_name}'\n",
        "              f' and my ID is {self.id}')\n",
        "\n",
        "# Creamos una lista de objetos 'Person'.\n",
        "people = [Person('Obi-Wan', 'Kenobi', 123),\n",
        "          Person('Anakin', 'Skywalker', 456)]\n",
        "\n",
        "# Guardamos los datos en formato binario en un archivo llamado 'data.pickle'.\n",
        "with open('data.pickle', 'wb') as stream:\n",
        "    pickle.dump(people, stream)\n",
        "\n",
        "# Cargamos los datos desde el archivo 'data.pickle'.\n",
        "with open('data.pickle', 'rb') as stream:\n",
        "    peeps = pickle.load(stream)\n",
        "\n",
        "# Iteramos a través de las personas cargadas y llamamos al método 'greet' para saludarlas.\n",
        "for person in peeps:\n",
        "    person.greet()"
      ],
      "metadata": {
        "colab": {
          "base_uri": "https://localhost:8080/"
        },
        "id": "v_pyluOLvJja",
        "outputId": "b0476284-e624-4c82-c1f2-483eec3f5bf9"
      },
      "execution_count": 38,
      "outputs": [
        {
          "output_type": "stream",
          "name": "stdout",
          "text": [
            "Hi, I am Obi-Wan Kenobi and my ID is 123\n",
            "Hi, I am Anakin Skywalker and my ID is 456\n"
          ]
        }
      ]
    },
    {
      "cell_type": "code",
      "source": [
        "# persistence/shelf.py\n",
        "# Importamos el módulo 'shelve' para trabajar con bases de datos simples tipo estantería (shelf) en Python.\n",
        "import shelve\n",
        "\n",
        "# Definimos una clase 'Person'.\n",
        "class Person:\n",
        "    def __init__(self, name, id):\n",
        "        self.name = name\n",
        "        self.id = id\n",
        "\n",
        "# Abrimos una base de datos utilizando 'shelve' llamada 'shelf1.shelve'.\n",
        "with shelve.open('shelf1.shelve') as db:\n",
        "    # Almacenamos objetos 'Person' en la base de datos con claves 'obi1' y 'ani'.\n",
        "    db['obi1'] = Person('Obi-Wan', 123)\n",
        "    db['ani'] = Person('Anakin', 456)\n",
        "\n",
        "    # Almacenamos una lista y una cadena en la base de datos.\n",
        "    db['a_list'] = [2, 3, 5]\n",
        "    db['delete_me'] = 'we will have to delete this one...'\n",
        "\n",
        "    # Imprimimos las claves de la base de datos.\n",
        "    print(list(db.keys()))  # ['ani', 'delete_me', 'a_list', 'obi1']\n",
        "\n",
        "    # Eliminamos la clave 'delete_me' de la base de datos.\n",
        "    del db['delete_me']  # ¡Se ha eliminado!\n",
        "    print(list(db.keys()))  # ['ani', 'a_list', 'obi1']\n",
        "\n",
        "    # Verificamos si 'delete_me' y 'ani' están en la base de datos.\n",
        "    print('delete_me' in db)  # False\n",
        "    print('ani' in db)  # True\n",
        "\n",
        "    # Obtenemos la lista 'a_list' de la base de datos, la modificamos y la volvemos a guardar.\n",
        "    a_list = db['a_list']\n",
        "    a_list.append(7)\n",
        "    db['a_list'] = a_list\n",
        "\n",
        "    # Imprimimos la lista modificada.\n",
        "    print(db['a_list'])  # [2, 3, 5, 7]"
      ],
      "metadata": {
        "colab": {
          "base_uri": "https://localhost:8080/"
        },
        "id": "mdRrs12KvJrA",
        "outputId": "8eaaf095-0323-4a82-c67c-8a48b0d9fc56"
      },
      "execution_count": 39,
      "outputs": [
        {
          "output_type": "stream",
          "name": "stdout",
          "text": [
            "['a_list', 'ani', 'delete_me', 'obi1']\n",
            "['a_list', 'ani', 'obi1']\n",
            "False\n",
            "True\n",
            "[2, 3, 5, 7]\n"
          ]
        }
      ]
    },
    {
      "cell_type": "code",
      "source": [
        "# persistence/shelf.py\n",
        "# Abrimos una base de datos utilizando 'shelve' llamada 'shelf2.shelve' con la opción 'writeback=True'.\n",
        "with shelve.open('shelf2.shelve', writeback=True) as db:\n",
        "    # Almacenamos una lista en la base de datos.\n",
        "    db['a_list'] = [11, 13, 17]\n",
        "\n",
        "    # Realizamos una operación de agregación en el lugar (in-place append) a la lista almacenada.\n",
        "    db['a_list'].append(19)  # ¡Añade 19 a la lista existente en la base de datos!\n",
        "\n",
        "    # Imprimimos la lista almacenada en la base de datos.\n",
        "    print(db['a_list'])  # [11, 13, 17, 19]"
      ],
      "metadata": {
        "colab": {
          "base_uri": "https://localhost:8080/"
        },
        "id": "-R30X5dTwFkZ",
        "outputId": "c2f20a0a-3e41-4bde-bc78-daaa1859a1d4"
      },
      "execution_count": 41,
      "outputs": [
        {
          "output_type": "stream",
          "name": "stdout",
          "text": [
            "[11, 13, 17, 19]\n"
          ]
        }
      ]
    }
  ]
}