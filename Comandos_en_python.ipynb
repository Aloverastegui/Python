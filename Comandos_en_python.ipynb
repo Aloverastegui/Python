{
  "nbformat": 4,
  "nbformat_minor": 0,
  "metadata": {
    "colab": {
      "provenance": [],
      "authorship_tag": "ABX9TyPummLUU1QZuvp48h/FarPa",
      "include_colab_link": true
    },
    "kernelspec": {
      "name": "python3",
      "display_name": "Python 3"
    },
    "language_info": {
      "name": "python"
    }
  },
  "cells": [
    {
      "cell_type": "markdown",
      "metadata": {
        "id": "view-in-github",
        "colab_type": "text"
      },
      "source": [
        "<a href=\"https://colab.research.google.com/github/Aloverastegui/Python/blob/main/Comandos_en_python.ipynb\" target=\"_parent\"><img src=\"https://colab.research.google.com/assets/colab-badge.svg\" alt=\"Open In Colab\"/></a>"
      ]
    },
    {
      "cell_type": "markdown",
      "source": [
        "1.2 Introducción a Python\n",
        "\n",
        "Alumna: Alondra Vianey Verástegui Peña\n",
        "\n",
        "Materia: Protección de datos\n",
        "\n",
        "Carrera: Licenciatura en Ciencia de datos\n",
        "\n",
        "Semestre: 7°\n"
      ],
      "metadata": {
        "id": "4mZNOI-vZd_q"
      }
    },
    {
      "cell_type": "code",
      "execution_count": 1,
      "metadata": {
        "colab": {
          "base_uri": "https://localhost:8080/"
        },
        "id": "x-mm86sTYpMK",
        "outputId": "8af27402-7bb6-4993-bcff-c1209ccf6bde"
      },
      "outputs": [
        {
          "output_type": "stream",
          "name": "stdout",
          "text": [
            "7\n",
            "5\n"
          ]
        }
      ],
      "source": [
        "# scopes1.py\n",
        "# Local versus Global\n",
        "\n",
        "# Definimos una función llamada local\n",
        "def local():\n",
        "    m = 7\n",
        "    print(m)\n",
        "\n",
        "# Definimos m dentro del alcance global\n",
        "m = 5\n",
        "\n",
        "# Llamamos o ejecutamos la función local\n",
        "local()\n",
        "print(m)"
      ]
    },
    {
      "cell_type": "code",
      "source": [],
      "metadata": {
        "id": "KuSZ7L15buRs"
      },
      "execution_count": null,
      "outputs": []
    },
    {
      "cell_type": "code",
      "source": [],
      "metadata": {
        "id": "R60PHomjbuhF"
      },
      "execution_count": null,
      "outputs": []
    },
    {
      "cell_type": "code",
      "source": [],
      "metadata": {
        "id": "ZmsvNSvObuns"
      },
      "execution_count": null,
      "outputs": []
    }
  ]
}